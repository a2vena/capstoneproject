{
    "cells": [
        {
            "cell_type": "markdown",
            "metadata": {
                "collapsed": true
            },
            "source": "<H1> IBM Data Science - Capstone Project "
        },
        {
            "cell_type": "markdown",
            "metadata": {},
            "source": "*Created: April 14, 2020*"
        },
        {
            "cell_type": "markdown",
            "metadata": {},
            "source": "<h2><span style=\"color:blue\"> Purpose </span></h2>"
        },
        {
            "cell_type": "markdown",
            "metadata": {},
            "source": "This notebook will mainly be used for the Capstone Project (IBM Data Science on Coursera)"
        },
        {
            "cell_type": "code",
            "execution_count": 1,
            "metadata": {},
            "outputs": [],
            "source": "import numpy as np\nimport pandas as pd"
        },
        {
            "cell_type": "code",
            "execution_count": 2,
            "metadata": {},
            "outputs": [
                {
                    "name": "stdout",
                    "output_type": "stream",
                    "text": "Hello Capstone Project Course\n"
                }
            ],
            "source": "print('Hello Capstone Project Course')"
        }
    ],
    "metadata": {
        "kernelspec": {
            "display_name": "Python 3.6",
            "language": "python",
            "name": "python3"
        },
        "language_info": {
            "codemirror_mode": {
                "name": "ipython",
                "version": 3
            },
            "file_extension": ".py",
            "mimetype": "text/x-python",
            "name": "python",
            "nbconvert_exporter": "python",
            "pygments_lexer": "ipython3",
            "version": "3.6.9"
        }
    },
    "nbformat": 4,
    "nbformat_minor": 1
}